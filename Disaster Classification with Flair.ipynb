{
 "cells": [
  {
   "cell_type": "code",
   "execution_count": 1,
   "metadata": {},
   "outputs": [
    {
     "name": "stdout",
     "output_type": "stream",
     "text": [
      "C:\\Users\\risha\\Desktop\\Stride.ai Practice Work\n"
     ]
    }
   ],
   "source": [
    "import os\n",
    "\n",
    "cur = os.getcwd()\n",
    "print(cur)"
   ]
  },
  {
   "cell_type": "markdown",
   "metadata": {},
   "source": []
  },
  {
   "cell_type": "code",
   "execution_count": 2,
   "metadata": {},
   "outputs": [],
   "source": [
    "import pandas as pd\n",
    "import flair\n",
    "import re"
   ]
  },
  {
   "cell_type": "code",
   "execution_count": 3,
   "metadata": {},
   "outputs": [],
   "source": [
    "df_train = pd.read_csv('train.csv')\n",
    "df_test = pd.read_csv('test.csv')"
   ]
  },
  {
   "cell_type": "code",
   "execution_count": 4,
   "metadata": {},
   "outputs": [
    {
     "data": {
      "text/html": [
       "<div>\n",
       "<style scoped>\n",
       "    .dataframe tbody tr th:only-of-type {\n",
       "        vertical-align: middle;\n",
       "    }\n",
       "\n",
       "    .dataframe tbody tr th {\n",
       "        vertical-align: top;\n",
       "    }\n",
       "\n",
       "    .dataframe thead th {\n",
       "        text-align: right;\n",
       "    }\n",
       "</style>\n",
       "<table border=\"1\" class=\"dataframe\">\n",
       "  <thead>\n",
       "    <tr style=\"text-align: right;\">\n",
       "      <th></th>\n",
       "      <th>label</th>\n",
       "      <th>text</th>\n",
       "    </tr>\n",
       "  </thead>\n",
       "  <tbody>\n",
       "    <tr>\n",
       "      <th>0</th>\n",
       "      <td>1</td>\n",
       "      <td>our deeds are the reason of this  earthquake m...</td>\n",
       "    </tr>\n",
       "    <tr>\n",
       "      <th>1</th>\n",
       "      <td>1</td>\n",
       "      <td>forest fire near la ronge sask. canada</td>\n",
       "    </tr>\n",
       "    <tr>\n",
       "      <th>2</th>\n",
       "      <td>1</td>\n",
       "      <td>all residents asked to 'shelter in place' are ...</td>\n",
       "    </tr>\n",
       "    <tr>\n",
       "      <th>3</th>\n",
       "      <td>1</td>\n",
       "      <td>13 000 people receive  wildfires evacuation or...</td>\n",
       "    </tr>\n",
       "    <tr>\n",
       "      <th>4</th>\n",
       "      <td>1</td>\n",
       "      <td>just got sent this photo from ruby  alaska as ...</td>\n",
       "    </tr>\n",
       "    <tr>\n",
       "      <th>5</th>\n",
       "      <td>1</td>\n",
       "      <td>rockyfire update =&gt; california hwy. 20 closed ...</td>\n",
       "    </tr>\n",
       "    <tr>\n",
       "      <th>6</th>\n",
       "      <td>1</td>\n",
       "      <td>flood  disaster heavy rain causes flash floodi...</td>\n",
       "    </tr>\n",
       "    <tr>\n",
       "      <th>7</th>\n",
       "      <td>1</td>\n",
       "      <td>i'm on top of the hill and i can see a fire in...</td>\n",
       "    </tr>\n",
       "    <tr>\n",
       "      <th>8</th>\n",
       "      <td>1</td>\n",
       "      <td>is an emergency evacuation happening now in th...</td>\n",
       "    </tr>\n",
       "    <tr>\n",
       "      <th>9</th>\n",
       "      <td>1</td>\n",
       "      <td>i'm afraid   the tornado is coming to our area...</td>\n",
       "    </tr>\n",
       "  </tbody>\n",
       "</table>\n",
       "</div>"
      ],
      "text/plain": [
       "   label                                               text\n",
       "0      1  our deeds are the reason of this  earthquake m...\n",
       "1      1             forest fire near la ronge sask. canada\n",
       "2      1  all residents asked to 'shelter in place' are ...\n",
       "3      1  13 000 people receive  wildfires evacuation or...\n",
       "4      1  just got sent this photo from ruby  alaska as ...\n",
       "5      1  rockyfire update => california hwy. 20 closed ...\n",
       "6      1  flood  disaster heavy rain causes flash floodi...\n",
       "7      1  i'm on top of the hill and i can see a fire in...\n",
       "8      1  is an emergency evacuation happening now in th...\n",
       "9      1  i'm afraid   the tornado is coming to our area..."
      ]
     },
     "execution_count": 4,
     "metadata": {},
     "output_type": "execute_result"
    }
   ],
   "source": [
    "df_train.head(10)"
   ]
  },
  {
   "cell_type": "code",
   "execution_count": null,
   "metadata": {},
   "outputs": [],
   "source": []
  },
  {
   "cell_type": "code",
   "execution_count": null,
   "metadata": {},
   "outputs": [],
   "source": []
  },
  {
   "cell_type": "code",
   "execution_count": 6,
   "metadata": {},
   "outputs": [],
   "source": [
    "df_train.dropna(inplace=True)"
   ]
  },
  {
   "cell_type": "code",
   "execution_count": 7,
   "metadata": {},
   "outputs": [
    {
     "data": {
      "text/html": [
       "<div>\n",
       "<style scoped>\n",
       "    .dataframe tbody tr th:only-of-type {\n",
       "        vertical-align: middle;\n",
       "    }\n",
       "\n",
       "    .dataframe tbody tr th {\n",
       "        vertical-align: top;\n",
       "    }\n",
       "\n",
       "    .dataframe thead th {\n",
       "        text-align: right;\n",
       "    }\n",
       "</style>\n",
       "<table border=\"1\" class=\"dataframe\">\n",
       "  <thead>\n",
       "    <tr style=\"text-align: right;\">\n",
       "      <th></th>\n",
       "      <th>label</th>\n",
       "      <th>text</th>\n",
       "    </tr>\n",
       "  </thead>\n",
       "  <tbody>\n",
       "    <tr>\n",
       "      <th>0</th>\n",
       "      <td>1</td>\n",
       "      <td>our deeds are the reason of this  earthquake m...</td>\n",
       "    </tr>\n",
       "    <tr>\n",
       "      <th>1</th>\n",
       "      <td>1</td>\n",
       "      <td>forest fire near la ronge sask. canada</td>\n",
       "    </tr>\n",
       "    <tr>\n",
       "      <th>2</th>\n",
       "      <td>1</td>\n",
       "      <td>all residents asked to 'shelter in place' are ...</td>\n",
       "    </tr>\n",
       "    <tr>\n",
       "      <th>3</th>\n",
       "      <td>1</td>\n",
       "      <td>13 000 people receive  wildfires evacuation or...</td>\n",
       "    </tr>\n",
       "    <tr>\n",
       "      <th>4</th>\n",
       "      <td>1</td>\n",
       "      <td>just got sent this photo from ruby  alaska as ...</td>\n",
       "    </tr>\n",
       "    <tr>\n",
       "      <th>...</th>\n",
       "      <td>...</td>\n",
       "      <td>...</td>\n",
       "    </tr>\n",
       "    <tr>\n",
       "      <th>7608</th>\n",
       "      <td>1</td>\n",
       "      <td>two giant cranes holding a bridge collapse int...</td>\n",
       "    </tr>\n",
       "    <tr>\n",
       "      <th>7609</th>\n",
       "      <td>1</td>\n",
       "      <td>aria_ahrary  thetawniest the out of control wi...</td>\n",
       "    </tr>\n",
       "    <tr>\n",
       "      <th>7610</th>\n",
       "      <td>1</td>\n",
       "      <td>m1.94  01:04 utc  5km s of volcano hawaii. htt...</td>\n",
       "    </tr>\n",
       "    <tr>\n",
       "      <th>7611</th>\n",
       "      <td>1</td>\n",
       "      <td>police investigating after an e-bike collided ...</td>\n",
       "    </tr>\n",
       "    <tr>\n",
       "      <th>7612</th>\n",
       "      <td>1</td>\n",
       "      <td>the latest: more homes razed by northern calif...</td>\n",
       "    </tr>\n",
       "  </tbody>\n",
       "</table>\n",
       "<p>7613 rows × 2 columns</p>\n",
       "</div>"
      ],
      "text/plain": [
       "      label                                               text\n",
       "0         1  our deeds are the reason of this  earthquake m...\n",
       "1         1             forest fire near la ronge sask. canada\n",
       "2         1  all residents asked to 'shelter in place' are ...\n",
       "3         1  13 000 people receive  wildfires evacuation or...\n",
       "4         1  just got sent this photo from ruby  alaska as ...\n",
       "...     ...                                                ...\n",
       "7608      1  two giant cranes holding a bridge collapse int...\n",
       "7609      1  aria_ahrary  thetawniest the out of control wi...\n",
       "7610      1  m1.94  01:04 utc  5km s of volcano hawaii. htt...\n",
       "7611      1  police investigating after an e-bike collided ...\n",
       "7612      1  the latest: more homes razed by northern calif...\n",
       "\n",
       "[7613 rows x 2 columns]"
      ]
     },
     "execution_count": 7,
     "metadata": {},
     "output_type": "execute_result"
    }
   ],
   "source": [
    "df_train"
   ]
  },
  {
   "cell_type": "code",
   "execution_count": 8,
   "metadata": {},
   "outputs": [],
   "source": [
    "cList = {\n",
    "  \"ain't\": \"am not\",\n",
    "  \"aren't\": \"are not\",\n",
    "  \"can't\": \"cannot\",\n",
    "  \"can't've\": \"cannot have\",\n",
    "  \"'cause\": \"because\",\n",
    "  \"could've\": \"could have\",\n",
    "  \"couldn't\": \"could not\",\n",
    "  \"couldn't've\": \"could not have\",\n",
    "  \"didn't\": \"did not\",\n",
    "  \"doesn't\": \"does not\",\n",
    "  \"don't\": \"do not\",\n",
    "  \"hadn't\": \"had not\",\n",
    "  \"hadn't've\": \"had not have\",\n",
    "  \"hasn't\": \"has not\",\n",
    "  \"haven't\": \"have not\",\n",
    "  \"he'd\": \"he would\",\n",
    "  \"he'd've\": \"he would have\",\n",
    "  \"he'll\": \"he will\",\n",
    "  \"he'll've\": \"he will have\",\n",
    "  \"he's\": \"he is\",\n",
    "  \"how'd\": \"how did\",\n",
    "  \"how'd'y\": \"how do you\",\n",
    "  \"how'll\": \"how will\",\n",
    "  \"how's\": \"how is\",\n",
    "  \"I'd\": \"I would\",\n",
    "  \"I'd've\": \"I would have\",\n",
    "  \"I'll\": \"I will\",\n",
    "  \"I'll've\": \"I will have\",\n",
    "  \"I'm\": \"I am\",\n",
    "  \"I've\": \"I have\",\n",
    "  \"isn't\": \"is not\",\n",
    "  \"it'd\": \"it had\",\n",
    "  \"it'd've\": \"it would have\",\n",
    "  \"it'll\": \"it will\",\n",
    "  \"it'll've\": \"it will have\",\n",
    "  \"it's\": \"it is\",\n",
    "  \"let's\": \"let us\",\n",
    "  \"ma'am\": \"madam\",\n",
    "  \"mayn't\": \"may not\",\n",
    "  \"might've\": \"might have\",\n",
    "  \"mightn't\": \"might not\",\n",
    "  \"mightn't've\": \"might not have\",\n",
    "  \"must've\": \"must have\",\n",
    "  \"mustn't\": \"must not\",\n",
    "  \"mustn't've\": \"must not have\",\n",
    "  \"needn't\": \"need not\",\n",
    "  \"needn't've\": \"need not have\",\n",
    "  \"o'clock\": \"of the clock\",\n",
    "  \"oughtn't\": \"ought not\",\n",
    "  \"oughtn't've\": \"ought not have\",\n",
    "  \"shan't\": \"shall not\",\n",
    "  \"sha'n't\": \"shall not\",\n",
    "  \"shan't've\": \"shall not have\",\n",
    "  \"she'd\": \"she would\",\n",
    "  \"she'd've\": \"she would have\",\n",
    "  \"she'll\": \"she will\",\n",
    "  \"she'll've\": \"she will have\",\n",
    "  \"she's\": \"she is\",\n",
    "  \"should've\": \"should have\",\n",
    "  \"shouldn't\": \"should not\",\n",
    "  \"shouldn't've\": \"should not have\",\n",
    "  \"so've\": \"so have\",\n",
    "  \"so's\": \"so is\",\n",
    "  \"that'd\": \"that would\",\n",
    "  \"that'd've\": \"that would have\",\n",
    "  \"that's\": \"that is\",\n",
    "  \"there'd\": \"there had\",\n",
    "  \"there'd've\": \"there would have\",\n",
    "  \"there's\": \"there is\",\n",
    "  \"they'd\": \"they would\",\n",
    "  \"they'd've\": \"they would have\",\n",
    "  \"they'll\": \"they will\",\n",
    "  \"they'll've\": \"they will have\",\n",
    "  \"they're\": \"they are\",\n",
    "  \"they've\": \"they have\",\n",
    "  \"to've\": \"to have\",\n",
    "  \"wasn't\": \"was not\",\n",
    "  \"we'd\": \"we had\",\n",
    "  \"we'd've\": \"we would have\",\n",
    "  \"we'll\": \"we will\",\n",
    "  \"we'll've\": \"we will have\",\n",
    "  \"we're\": \"we are\",\n",
    "  \"we've\": \"we have\",\n",
    "  \"weren't\": \"were not\",\n",
    "  \"what'll\": \"what will\",\n",
    "  \"what'll've\": \"what will have\",\n",
    "  \"what're\": \"what are\",\n",
    "  \"what's\": \"what is\",\n",
    "  \"what've\": \"what have\",\n",
    "  \"when's\": \"when is\",\n",
    "  \"when've\": \"when have\",\n",
    "  \"where'd\": \"where did\",\n",
    "  \"where's\": \"where is\",\n",
    "  \"where've\": \"where have\",\n",
    "  \"who'll\": \"who will\",\n",
    "  \"who'll've\": \"who will have\",\n",
    "  \"who's\": \"who is\",\n",
    "  \"who've\": \"who have\",\n",
    "  \"why's\": \"why is\",\n",
    "  \"why've\": \"why have\",\n",
    "  \"will've\": \"will have\",\n",
    "  \"won't\": \"will not\",\n",
    "  \"won't've\": \"will not have\",\n",
    "  \"would've\": \"would have\",\n",
    "  \"wouldn't\": \"would not\",\n",
    "  \"wouldn't've\": \"would not have\",\n",
    "  \"y'all\": \"you all\",\n",
    "  \"y'alls\": \"you alls\",\n",
    "  \"y'all'd\": \"you all would\",\n",
    "  \"y'all'd've\": \"you all would have\",\n",
    "  \"y'all're\": \"you all are\",\n",
    "  \"y'all've\": \"you all have\",\n",
    "  \"you'd\": \"you had\",\n",
    "  \"you'd've\": \"you would have\",\n",
    "  \"you'll\": \"you you will\",\n",
    "  \"you'll've\": \"you you will have\",\n",
    "  \"you're\": \"you are\",\n",
    "  \"you've\": \"you have\"\n",
    "}\n",
    "\n",
    "c_re = re.compile('(%s)' % '|'.join(cList.keys()))\n",
    "\n",
    "def expandContractions(text, c_re=c_re):\n",
    "    def replace(match):\n",
    "        return cList[match.group(0)]\n",
    "    return c_re.sub(replace, text)"
   ]
  },
  {
   "cell_type": "code",
   "execution_count": 9,
   "metadata": {},
   "outputs": [],
   "source": [
    "REPLACE_BY_SPACE_RE = re.compile('[/(){}\\[\\]\\|@,?#]')\n",
    "def clean_text(text):\n",
    "    text = text.lower()\n",
    "    text = text.strip()\n",
    "    text = text.lstrip()   \n",
    "    text = text.rstrip()\n",
    "    text = expandContractions(text)\n",
    "    text = REPLACE_BY_SPACE_RE.sub(' ', text)\n",
    "    text = re.sub(r\"https?://(?:[-\\w.]|(?:%[\\da-fA-F]{2}))+\",\" \",text)\n",
    "    text = re.sub(r\"\\$\\d+\", \" \",text)\n",
    "    text = re.sub(r'[\\w\\.-]+@[\\w\\.-]+', \" \",text)\n",
    "    text = re.sub(r'\\b(me|her|him|us|them|there|that)\\b', \" \",text)  \n",
    "    return text"
   ]
  },
  {
   "cell_type": "code",
   "execution_count": 10,
   "metadata": {},
   "outputs": [],
   "source": [
    "#df_train['text'] = df_train['text'].astype(str).apply(clean_text)"
   ]
  },
  {
   "cell_type": "code",
   "execution_count": 11,
   "metadata": {},
   "outputs": [
    {
     "data": {
      "text/html": [
       "<div>\n",
       "<style scoped>\n",
       "    .dataframe tbody tr th:only-of-type {\n",
       "        vertical-align: middle;\n",
       "    }\n",
       "\n",
       "    .dataframe tbody tr th {\n",
       "        vertical-align: top;\n",
       "    }\n",
       "\n",
       "    .dataframe thead th {\n",
       "        text-align: right;\n",
       "    }\n",
       "</style>\n",
       "<table border=\"1\" class=\"dataframe\">\n",
       "  <thead>\n",
       "    <tr style=\"text-align: right;\">\n",
       "      <th></th>\n",
       "      <th>label</th>\n",
       "      <th>text</th>\n",
       "    </tr>\n",
       "  </thead>\n",
       "  <tbody>\n",
       "    <tr>\n",
       "      <th>7481</th>\n",
       "      <td>1</td>\n",
       "      <td>the sunset boys wreck my bed   original 1979 u...</td>\n",
       "    </tr>\n",
       "    <tr>\n",
       "      <th>7491</th>\n",
       "      <td>1</td>\n",
       "      <td>wreck with road blockage woodward avenue north...</td>\n",
       "    </tr>\n",
       "    <tr>\n",
       "      <th>5578</th>\n",
       "      <td>0</td>\n",
       "      <td>former freedom surf spa razed to make way for ...</td>\n",
       "    </tr>\n",
       "    <tr>\n",
       "      <th>96</th>\n",
       "      <td>0</td>\n",
       "      <td>has an accident changed your life  we will hel...</td>\n",
       "    </tr>\n",
       "    <tr>\n",
       "      <th>6127</th>\n",
       "      <td>0</td>\n",
       "      <td>today is corii siren's birthday! spoil   now: ...</td>\n",
       "    </tr>\n",
       "    <tr>\n",
       "      <th>...</th>\n",
       "      <td>...</td>\n",
       "      <td>...</td>\n",
       "    </tr>\n",
       "    <tr>\n",
       "      <th>5943</th>\n",
       "      <td>1</td>\n",
       "      <td>i just screamed  toddyrockstar http:  t.co jdt...</td>\n",
       "    </tr>\n",
       "    <tr>\n",
       "      <th>6042</th>\n",
       "      <td>0</td>\n",
       "      <td>england east coast. dogger bank westward. 1. s...</td>\n",
       "    </tr>\n",
       "    <tr>\n",
       "      <th>1309</th>\n",
       "      <td>1</td>\n",
       "      <td>flames visible from fire in tucson mountains: ...</td>\n",
       "    </tr>\n",
       "    <tr>\n",
       "      <th>6971</th>\n",
       "      <td>0</td>\n",
       "      <td>i liked a  youtube video http:  t.co 0h7oua1pn...</td>\n",
       "    </tr>\n",
       "    <tr>\n",
       "      <th>3727</th>\n",
       "      <td>0</td>\n",
       "      <td>couples having less sex... for fear it will be...</td>\n",
       "    </tr>\n",
       "  </tbody>\n",
       "</table>\n",
       "<p>7613 rows × 2 columns</p>\n",
       "</div>"
      ],
      "text/plain": [
       "      label                                               text\n",
       "7481      1  the sunset boys wreck my bed   original 1979 u...\n",
       "7491      1  wreck with road blockage woodward avenue north...\n",
       "5578      0  former freedom surf spa razed to make way for ...\n",
       "96        0  has an accident changed your life  we will hel...\n",
       "6127      0  today is corii siren's birthday! spoil   now: ...\n",
       "...     ...                                                ...\n",
       "5943      1  i just screamed  toddyrockstar http:  t.co jdt...\n",
       "6042      0  england east coast. dogger bank westward. 1. s...\n",
       "1309      1  flames visible from fire in tucson mountains: ...\n",
       "6971      0  i liked a  youtube video http:  t.co 0h7oua1pn...\n",
       "3727      0  couples having less sex... for fear it will be...\n",
       "\n",
       "[7613 rows x 2 columns]"
      ]
     },
     "execution_count": 11,
     "metadata": {},
     "output_type": "execute_result"
    }
   ],
   "source": [
    "from sklearn.utils import shuffle\n",
    "df = shuffle(df_train)\n",
    "\n",
    "df"
   ]
  },
  {
   "cell_type": "code",
   "execution_count": 12,
   "metadata": {},
   "outputs": [
    {
     "name": "stderr",
     "output_type": "stream",
     "text": [
      "A subdirectory or file data already exists.\n"
     ]
    }
   ],
   "source": [
    "!mkdir data"
   ]
  },
  {
   "cell_type": "code",
   "execution_count": 13,
   "metadata": {},
   "outputs": [],
   "source": [
    "df.iloc[0:int(len(df)*0.8)].to_csv('data/train.csv', sep='\\t', index = False, header = False)\n",
    "df.iloc[int(len(df)*0.8):int(len(df)*0.9)].to_csv('data/test.csv', sep='\\t', index = False, header = False)\n",
    "df.iloc[int(len(df)*0.9):].to_csv('data/dev.csv', sep='\\t', index = False, header = False);"
   ]
  },
  {
   "cell_type": "code",
   "execution_count": null,
   "metadata": {},
   "outputs": [],
   "source": []
  },
  {
   "cell_type": "code",
   "execution_count": 15,
   "metadata": {
    "scrolled": true
   },
   "outputs": [
    {
     "name": "stdout",
     "output_type": "stream",
     "text": [
      "2020-06-20 03:42:24,390 Reading data from data\n",
      "2020-06-20 03:42:24,390 Train: data\\train.csv\n",
      "2020-06-20 03:42:24,390 Dev: data\\dev.csv\n",
      "2020-06-20 03:42:24,390 Test: data\\test.csv\n",
      "2020-06-20 03:42:26,038 Computing label dictionary. Progress:\n"
     ]
    },
    {
     "name": "stderr",
     "output_type": "stream",
     "text": [
      "100%|████████████████████████████████████████████████████████████████████████████| 6849/6849 [00:05<00:00, 1177.94it/s]"
     ]
    },
    {
     "name": "stdout",
     "output_type": "stream",
     "text": [
      "2020-06-20 03:43:59,204 [b'1', b'0']\n",
      "2020-06-20 03:43:59,212 ----------------------------------------------------------------------------------------------------\n",
      "2020-06-20 03:43:59,212 Model: \"TextClassifier(\n",
      "  (document_embeddings): DocumentRNNEmbeddings(\n",
      "    (embeddings): StackedEmbeddings(\n",
      "      (list_embedding_0): WordEmbeddings('glove')\n",
      "      (list_embedding_1): FlairEmbeddings(\n",
      "        (lm): LanguageModel(\n",
      "          (drop): Dropout(p=0.25, inplace=False)\n",
      "          (encoder): Embedding(275, 100)\n",
      "          (rnn): LSTM(100, 1024)\n",
      "          (decoder): Linear(in_features=1024, out_features=275, bias=True)\n",
      "        )\n",
      "      )\n",
      "      (list_embedding_2): FlairEmbeddings(\n",
      "        (lm): LanguageModel(\n",
      "          (drop): Dropout(p=0.25, inplace=False)\n",
      "          (encoder): Embedding(275, 100)\n",
      "          (rnn): LSTM(100, 1024)\n",
      "          (decoder): Linear(in_features=1024, out_features=275, bias=True)\n",
      "        )\n",
      "      )\n",
      "    )\n",
      "    (word_reprojection_map): Linear(in_features=2148, out_features=2148, bias=True)\n",
      "    (rnn): GRU(2148, 256, batch_first=True)\n",
      "    (dropout): Dropout(p=0.5, inplace=False)\n",
      "  )\n",
      "  (decoder): Linear(in_features=256, out_features=2, bias=True)\n",
      "  (loss_function): CrossEntropyLoss()\n",
      "  (beta): 1.0\n",
      "  (weights): None\n",
      "  (weight_tensor) None\n",
      ")\"\n",
      "2020-06-20 03:43:59,220 ----------------------------------------------------------------------------------------------------\n",
      "2020-06-20 03:43:59,220 Corpus: \"Corpus: 6089 train + 761 dev + 760 test sentences\"\n",
      "2020-06-20 03:43:59,228 ----------------------------------------------------------------------------------------------------\n",
      "2020-06-20 03:43:59,228 Parameters:\n",
      "2020-06-20 03:43:59,228  - learning_rate: \"0.1\"\n",
      "2020-06-20 03:43:59,236  - mini_batch_size: \"32\"\n",
      "2020-06-20 03:43:59,236  - patience: \"3\"\n",
      "2020-06-20 03:43:59,236  - anneal_factor: \"0.5\"\n",
      "2020-06-20 03:43:59,244  - max_epochs: \"10\"\n",
      "2020-06-20 03:43:59,244  - shuffle: \"True\"\n",
      "2020-06-20 03:43:59,252  - train_with_dev: \"False\"\n",
      "2020-06-20 03:43:59,252  - batch_growth_annealing: \"False\"\n",
      "2020-06-20 03:43:59,252 ----------------------------------------------------------------------------------------------------\n",
      "2020-06-20 03:43:59,260 Model training base path: \"model\"\n",
      "2020-06-20 03:43:59,260 ----------------------------------------------------------------------------------------------------\n",
      "2020-06-20 03:43:59,260 Device: cpu\n",
      "2020-06-20 03:43:59,260 ----------------------------------------------------------------------------------------------------\n",
      "2020-06-20 03:43:59,268 Embeddings storage mode: cpu\n",
      "2020-06-20 03:43:59,276 ----------------------------------------------------------------------------------------------------\n"
     ]
    },
    {
     "name": "stderr",
     "output_type": "stream",
     "text": [
      "\n"
     ]
    },
    {
     "name": "stdout",
     "output_type": "stream",
     "text": [
      "2020-06-20 03:46:09,768 epoch 1 - iter 19/191 - loss 0.84557807 - samples/sec: 10.60\n",
      "2020-06-20 03:47:07,495 epoch 1 - iter 38/191 - loss 0.74818811 - samples/sec: 10.59\n",
      "2020-06-20 03:48:11,738 epoch 1 - iter 57/191 - loss 0.71502714 - samples/sec: 9.51\n",
      "2020-06-20 03:49:13,118 epoch 1 - iter 76/191 - loss 0.69998035 - samples/sec: 9.96\n",
      "2020-06-20 03:50:30,945 epoch 1 - iter 95/191 - loss 0.68433416 - samples/sec: 8.61\n",
      "2020-06-20 03:51:33,237 epoch 1 - iter 114/191 - loss 0.67687542 - samples/sec: 9.81\n",
      "2020-06-20 03:52:39,011 epoch 1 - iter 133/191 - loss 0.66381033 - samples/sec: 9.28\n",
      "2020-06-20 03:53:38,767 epoch 1 - iter 152/191 - loss 0.65460109 - samples/sec: 10.22\n",
      "2020-06-20 03:54:42,866 epoch 1 - iter 171/191 - loss 0.65156871 - samples/sec: 9.52\n",
      "2020-06-20 03:56:07,263 epoch 1 - iter 190/191 - loss 0.64922115 - samples/sec: 7.40\n",
      "2020-06-20 03:59:11,810 ----------------------------------------------------------------------------------------------------\n",
      "2020-06-20 03:59:11,810 EPOCH 1 done: loss 0.6483 - lr 0.1000000\n",
      "2020-06-20 04:03:38,971 DEV : loss 0.5442241430282593 - score 0.7148\n",
      "2020-06-20 04:03:39,577 BAD EPOCHS (no improvement): 0\n",
      "saving best model\n",
      "2020-06-20 04:05:32,189 ----------------------------------------------------------------------------------------------------\n",
      "2020-06-20 04:07:35,921 epoch 2 - iter 19/191 - loss 0.57392412 - samples/sec: 10.80\n",
      "2020-06-20 04:08:38,915 epoch 2 - iter 38/191 - loss 0.58810408 - samples/sec: 9.69\n",
      "2020-06-20 04:09:39,591 epoch 2 - iter 57/191 - loss 0.57388552 - samples/sec: 10.10\n",
      "2020-06-20 04:10:43,543 epoch 2 - iter 76/191 - loss 0.57500107 - samples/sec: 9.56\n",
      "2020-06-20 04:12:23,839 epoch 2 - iter 95/191 - loss 0.56707145 - samples/sec: 6.17\n",
      "2020-06-20 04:14:02,908 epoch 2 - iter 114/191 - loss 0.56565881 - samples/sec: 7.93\n",
      "2020-06-20 04:15:19,205 epoch 2 - iter 133/191 - loss 0.56391079 - samples/sec: 8.00\n",
      "2020-06-20 04:16:28,657 epoch 2 - iter 152/191 - loss 0.56118372 - samples/sec: 8.79\n",
      "2020-06-20 04:17:38,750 epoch 2 - iter 171/191 - loss 0.55706895 - samples/sec: 8.71\n",
      "2020-06-20 04:18:48,891 epoch 2 - iter 190/191 - loss 0.55366438 - samples/sec: 8.70\n",
      "2020-06-20 04:18:59,192 ----------------------------------------------------------------------------------------------------\n",
      "2020-06-20 04:18:59,192 EPOCH 2 done: loss 0.5537 - lr 0.1000000\n",
      "2020-06-20 04:22:44,327 DEV : loss 0.850999116897583 - score 0.548\n",
      "2020-06-20 04:22:45,528 BAD EPOCHS (no improvement): 1\n",
      "2020-06-20 04:22:45,624 ----------------------------------------------------------------------------------------------------\n",
      "2020-06-20 04:26:26,278 ----------------------------------------------------------------------------------------------------\n",
      "2020-06-20 04:26:26,286 Exiting from training early.\n",
      "2020-06-20 04:26:26,286 Saving model ...\n",
      "2020-06-20 04:28:33,781 Done.\n",
      "2020-06-20 04:28:33,781 ----------------------------------------------------------------------------------------------------\n",
      "2020-06-20 04:28:33,781 Testing using best model ...\n",
      "2020-06-20 04:28:33,781 loading file model\\best-model.pt\n",
      "2020-06-20 04:30:56,663 0.6986842105263158\t0.6986842105263158\t0.6986842105263158\n",
      "2020-06-20 04:30:56,663 \n",
      "MICRO_AVG: acc 0.6986842105263158 - f1-score 0.6986842105263158\n",
      "MACRO_AVG: acc 0.6986842105263158 - f1-score 0.6967304954528741\n",
      "0          tp: 296 - fp: 90 - fn: 139 - tn: 235 - precision: 0.7668 - recall: 0.6805 - accuracy: 0.6987 - f1-score: 0.7211\n",
      "1          tp: 235 - fp: 139 - fn: 90 - tn: 296 - precision: 0.6283 - recall: 0.7231 - accuracy: 0.6987 - f1-score: 0.6724\n",
      "2020-06-20 04:30:56,663 ----------------------------------------------------------------------------------------------------\n"
     ]
    },
    {
     "data": {
      "text/plain": [
       "{'test_score': 0.6986842105263158,\n",
       " 'dev_score_history': [0.7148488830486203, 0.5479632063074902],\n",
       " 'train_loss_history': [0.6483360541428571, 0.5537355833964822],\n",
       " 'dev_loss_history': [0.5442241430282593, 0.850999116897583]}"
      ]
     },
     "execution_count": 15,
     "metadata": {},
     "output_type": "execute_result"
    }
   ],
   "source": [
    "from flair.data import Corpus\n",
    "from flair.datasets import CSVClassificationCorpus\n",
    "from flair.embeddings import WordEmbeddings, FlairEmbeddings, DocumentRNNEmbeddings\n",
    "from flair.models import TextClassifier\n",
    "from flair.trainers import ModelTrainer\n",
    "\n",
    "data_folder = r'data/'\n",
    "\n",
    "column_name_map = {1:'text',0:'label'}\n",
    "\n",
    "corpus: Corpus = CSVClassificationCorpus(data_folder,\n",
    "                                         column_name_map,\n",
    "                                         skip_header=True,\n",
    "                                         delimiter='\\t',    # tab-separated files\n",
    ") \n",
    "\n",
    "word_embeddings = [WordEmbeddings('glove'), FlairEmbeddings('news-forward-fast'), FlairEmbeddings('news-backward-fast')]\n",
    "document_embeddings = DocumentRNNEmbeddings(word_embeddings, hidden_size=256)\n",
    "#document_embeddings = DocumentLSTMEmbeddings(word_embeddings, hidden_size=512, reproject_words=True, reproject_words_dimension=256)\n",
    "classifier = TextClassifier(document_embeddings, label_dictionary=corpus.make_label_dictionary(), multi_label=False)\n",
    "trainer = ModelTrainer(classifier, corpus)\n",
    "trainer.train('model/', max_epochs=10)"
   ]
  },
  {
   "cell_type": "code",
   "execution_count": 16,
   "metadata": {
    "scrolled": true
   },
   "outputs": [
    {
     "name": "stdout",
     "output_type": "stream",
     "text": [
      "2020-06-20 04:31:43,720 ----------------------------------------------------------------------------------------------------\n",
      "2020-06-20 04:31:43,720 WARNING: No LOSS found for test split in this data.\n",
      "2020-06-20 04:31:43,720 Are you sure you want to plot LOSS and not another value?\n",
      "2020-06-20 04:31:43,731 ----------------------------------------------------------------------------------------------------\n",
      "2020-06-20 04:31:43,902 ----------------------------------------------------------------------------------------------------\n",
      "2020-06-20 04:31:43,902 WARNING: No F1 found for test split in this data.\n",
      "2020-06-20 04:31:43,902 Are you sure you want to plot F1 and not another value?\n",
      "2020-06-20 04:31:43,918 ----------------------------------------------------------------------------------------------------\n",
      "Loss and F1 plots are saved in model\\training.png\n"
     ]
    },
    {
     "data": {
      "image/png": "[encoded data removed]",
      "text/plain": [
       "<Figure size 1080x720 with 2 Axes>"
      ]
     },
     "metadata": {
      "needs_background": "light"
     },
     "output_type": "display_data"
    },
    {
     "name": "stdout",
     "output_type": "stream",
     "text": [
      "Weights plots are saved in model\\weights.png\n"
     ]
    },
    {
     "data": {
      "image/png": "[encoded data removed]",
      "text/plain": [
       "<Figure size 576x792 with 22 Axes>"
      ]
     },
     "metadata": {},
     "output_type": "display_data"
    }
   ],
   "source": [
    "from flair.visual.training_curves import Plotter\n",
    "plotter = Plotter()\n",
    "plotter.plot_training_curves('model/loss.tsv')\n",
    "plotter.plot_weights('model/weights.txt')"
   ]
  },
  {
   "cell_type": "code",
   "execution_count": null,
   "metadata": {},
   "outputs": [],
   "source": []
  },
  {
   "cell_type": "code",
   "execution_count": 17,
   "metadata": {},
   "outputs": [
    {
     "name": "stdout",
     "output_type": "stream",
     "text": [
      "2020-06-20 04:35:33,470 loading file model/final-model.pt\n"
     ]
    }
   ],
   "source": [
    "from flair.data import Sentence\n",
    "\n",
    "classifier = TextClassifier.load('model/final-model.pt')"
   ]
  },
  {
   "cell_type": "code",
   "execution_count": 18,
   "metadata": {},
   "outputs": [],
   "source": [
    "def predict(text, model=None):\n",
    "    sentence = Sentence(text)\n",
    "    if model:\n",
    "        model.predict(sentence)\n",
    "    else:\n",
    "        classifier.predict(sentence)\n",
    "    return sentence.labels[0].value"
   ]
  },
  {
   "cell_type": "code",
   "execution_count": 21,
   "metadata": {},
   "outputs": [
    {
     "name": "stderr",
     "output_type": "stream",
     "text": [
      "100%|██████████████████████████████████████████████████████████████████████████████| 3263/3263 [22:06<00:00,  2.46it/s]\n"
     ]
    }
   ],
   "source": [
    "from tqdm import tqdm\n",
    "\n",
    "predict_on = list()\n",
    "\n",
    "for text in tqdm(df_test.text):\n",
    "    out = predict(text)\n",
    "    predict_on.append(out)"
   ]
  },
  {
   "cell_type": "code",
   "execution_count": 22,
   "metadata": {},
   "outputs": [],
   "source": [
    "submission = pd.read_csv(\"sample_submission.csv\")"
   ]
  },
  {
   "cell_type": "code",
   "execution_count": 30,
   "metadata": {},
   "outputs": [],
   "source": [
    "submission['target'] = predict_on\n",
    "submission.to_csv('submission.csv', index=False)"
   ]
  },
  {
   "cell_type": "code",
   "execution_count": 31,
   "metadata": {},
   "outputs": [
    {
     "name": "stdout",
     "output_type": "stream",
     "text": [
      "Requirement already satisfied: kaggle in c:\\users\\risha\\anaconda3\\lib\\site-packages (1.5.6)\n",
      "Requirement already satisfied: python-dateutil in c:\\users\\risha\\anaconda3\\lib\\site-packages (from kaggle) (2.8.1)\n",
      "Requirement already satisfied: six>=1.10 in c:\\users\\risha\\anaconda3\\lib\\site-packages (from kaggle) (1.14.0)\n",
      "Requirement already satisfied: certifi in c:\\users\\risha\\anaconda3\\lib\\site-packages (from kaggle) (2020.4.5.2)\n",
      "Requirement already satisfied: requests in c:\\users\\risha\\anaconda3\\lib\\site-packages (from kaggle) (2.23.0)\n",
      "Requirement already satisfied: urllib3<1.25,>=1.21.1 in c:\\users\\risha\\anaconda3\\lib\\site-packages (from kaggle) (1.24.3)\n",
      "Requirement already satisfied: tqdm in c:\\users\\risha\\anaconda3\\lib\\site-packages (from kaggle) (4.46.0)\n",
      "Requirement already satisfied: python-slugify in c:\\users\\risha\\anaconda3\\lib\\site-packages (from kaggle) (4.0.0)\n",
      "Requirement already satisfied: chardet<4,>=3.0.2 in c:\\users\\risha\\anaconda3\\lib\\site-packages (from requests->kaggle) (3.0.4)\n",
      "Requirement already satisfied: idna<3,>=2.5 in c:\\users\\risha\\anaconda3\\lib\\site-packages (from requests->kaggle) (2.9)\n",
      "Requirement already satisfied: text-unidecode>=1.3 in c:\\users\\risha\\anaconda3\\lib\\site-packages (from python-slugify->kaggle) (1.3)\n"
     ]
    }
   ],
   "source": [
    "!pip install kaggle"
   ]
  },
  {
   "cell_type": "code",
   "execution_count": 32,
   "metadata": {},
   "outputs": [
    {
     "name": "stdout",
     "output_type": "stream",
     "text": [
      "Successfully submitted to Real or Not? NLP with Disaster Tweets\n"
     ]
    },
    {
     "name": "stderr",
     "output_type": "stream",
     "text": [
      "\n",
      "  0%|          | 0.00/25.4k [00:00<?, ?B/s]\n",
      " 31%|###1      | 8.00k/25.4k [00:00<00:00, 41.2kB/s]\n",
      "100%|##########| 25.4k/25.4k [00:08<00:00, 3.21kB/s]\n"
     ]
    }
   ],
   "source": [
    "!kaggle competitions submit -c nlp-getting-started -f submission.csv -m \"Hurrraay\""
   ]
  },
  {
   "cell_type": "code",
   "execution_count": null,
   "metadata": {},
   "outputs": [],
   "source": []
  }
 ],
 "metadata": {
  "kernelspec": {
   "display_name": "Python 3",
   "language": "python",
   "name": "python3"
  },
  "language_info": {
   "codemirror_mode": {
    "name": "ipython",
    "version": 3
   },
   "file_extension": ".py",
   "mimetype": "text/x-python",
   "name": "python",
   "nbconvert_exporter": "python",
   "pygments_lexer": "ipython3",
   "version": "3.7.6"
  }
 },
 "nbformat": 4,
 "nbformat_minor": 4
}
